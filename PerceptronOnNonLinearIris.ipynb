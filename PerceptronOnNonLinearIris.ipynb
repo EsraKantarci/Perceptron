{
 "cells": [
  {
   "cell_type": "markdown",
   "metadata": {},
   "source": [
    "# Homework - 2 \n",
    "## Perceptron on Iris and IrisModified Datasets\n",
    "### Esra Kantarcı - 20160808023\n",
    "\n",
    "**Homework details:**\n",
    "\n",
    "*For the first part of the homework, you are expected to implement a python code for the basic perceptron and test it on the given \"iris.csv\" file. Train it for several epochs and calculate the accuracy.*\n",
    "\n",
    "*For the second part of the homework, you need to test your perceptron implementation on \"irismodified.csv\" Train it for several epochs and check if it can converge or not. If it can not converge, explain why and try to implement a solution with editing your perceptron code.*"
   ]
  },
  {
   "attachments": {},
   "cell_type": "markdown",
   "metadata": {},
   "source": [
    "## What is Perceptron?\n",
    "\n",
    "Perceptrons, as known as the very first steps to artificial neural networks, are simple but powerful supervised learning tools. They give binary outputs. Being binary should not be underestimated, it can be very handy if we think that in computer science everything based on either 0 or 1.\n",
    "\n",
    "Perceptron algorithm was written in 1957 by Frank Rosenblatt.He had modeled a simple version of the neural networks in human body.  \n",
    "\n",
    "![Perceptron](https://miro.medium.com/max/1000/1*7pwA1DjBw6JDkwZQecUNiw.png)\n",
    "\n",
    "There are 2 types of perceptrons. It can be either single layer or multilayer. In this homework, single layered one was implemented. The results would be better if we applied multilayered one.\n",
    "\n",
    "Perceptrons can only learn models from labeled data, which is nature of being supervised learning algorithm. \n",
    "\n",
    "Perceptrons gets inputs and some weights as vectors. The weights are the coefficients of the inputs in order to calculate the decision boundries. The weight vector has a w0 weight as bias. In order to get the decision, we need to dot product the weights and the inputs. The input which corresponds to bias is always 1, so we can add the bias into the equation no matter what. \n",
    "\n",
    "![Perceptron algorithm](http://harveycohen.net/image/Perceptron-diagram.jpg)\n",
    "The perceptron will take the dot product of the weight and the corresponding inputs, sums them. In our code, it is called \"calculated_input\", but it is generally named as net input in the terminology. After net input is calculated, the perceptron checks the outputs. Since it is supervised learning, it returns the errors. The perceptron tries to converge it to 0 in each iteration with regard of some step, which is called learning rate. Learning rate keeps us in pace with the training and tries to find the minimum point of the error function.\n",
    "\n",
    "There are several activation functions for the prediction. Unit step function, sign function, sigmoid function, etc. In our code, unit step function was used for the simplicity. But we could use sigmoid function as well, which gives the logistic output between 0 and 1. \n",
    "\n",
    "Now, let's check the code."
   ]
  },
  {
   "cell_type": "code",
   "execution_count": null,
   "metadata": {},
   "outputs": [],
   "source": [
    "import numpy as np\n",
    "import pandas as pd\n",
    "import matplotlib.pyplot as plt\n",
    "import time\n",
    "import random\n",
    "import os\n",
    "from matplotlib.colors import ListedColormap"
   ]
  },
  {
   "cell_type": "markdown",
   "metadata": {},
   "source": [
    "## Perceptron implementation\n",
    "\n",
    "The code itself was taken from various GitHub repositories by small parts, which will be mentioned in the bibliography. However, since the perceptrons are very specific algorithms, the codes are very similar. \n",
    "\n",
    "We have a constructor, which has default learning rate of 0.01 and number of iterations of 10.\n",
    "\n",
    "Then we create a fit function, which applies Stochastic Gradient Descent algorithm with update on each iteration. At the first, weights are all zeros. We had added 1 to input's column numbers, because there is a bias part. Then, we had applied the update based sum on weights due to difference between the actual and predicted output for each input and check the errors. (I found a cool code segment for checking the number of errors in each iteration, and applied there. It is handy, I could add some graph with this errors_ array as well.)\n",
    "\n",
    "![Perceptron formula](data:image/png;base64,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)\n",
    "We have calculated_input function, which is as I mentioned before, actually net input function to get dot product of weight vector and input vector. What it does is simply shown in the formula above. \n",
    "\n",
    "Then we have predict function, which does binary classification with the calculated net inputs. Let's not forget, we could have add a seperate activation function to this code, but this part already includes one simple unit-step-activation function to handle, so we did not define another function.\n",
    "\n",
    "The predict function is used repeatedly at the fit function in each iteration to converge the output within the target. "
   ]
  },
  {
   "cell_type": "code",
   "execution_count": 96,
   "metadata": {},
   "outputs": [],
   "source": [
    "class Perceptron:\n",
    "    def __init__(self, learning_rate=0.01, iterations=10):\n",
    "        self.learning_rate = learning_rate\n",
    "        self.iterations = iterations\n",
    "\n",
    "    def fit(self, X, y):\n",
    "        self.w_ = np.zeros(1 + X.shape[1])\n",
    "        self.errors_ = []\n",
    "        for _ in range(self.iterations):\n",
    "            errors = 0\n",
    "            #using zip function for the parallel iterations\n",
    "            zip_x_y = zip(X, y)\n",
    "            for xi, target in zip_x_y:\n",
    "                update = self.learning_rate * (target - self.predict(xi))\n",
    "                self.w_[1:] += update * xi\n",
    "                self.w_[0] += update\n",
    "                errors += int(update != 0.0)\n",
    "            self.errors_.append(errors)\n",
    "        return self\n",
    "    \n",
    "    def calculated_input(self, X):\n",
    "        #Dot product of w and x and adding the bias\n",
    "        calculated_input = np.dot(X, self.w_[1:]) + self.w_[0]\n",
    "        return calculated_input\n",
    "    \n",
    "    def predict(self, X):\n",
    "        #the .where(self.calculated_input(X) >= 0.0, 1, -1) is actually an unit-step-activitation function\n",
    "        #and returns with the outcome as the prediction.\n",
    "        return np.where(self.calculated_input(X) >= 0.0, 1, -1)"
   ]
  },
  {
   "cell_type": "markdown",
   "metadata": {},
   "source": [
    "## Dataset Preperations\n",
    "\n",
    "So, before applying our perceptron model to our data, we need to adjust the dataset. We need X array as input and y array as output for our training. We could also add some test part, this is why I had shuffled the values, however since it was not mandatory on our assignment, I had not split the training set and test set for validation.\n",
    "\n",
    "We have 2 datasets: Iris.csv and IrisModified.csv\n",
    "At the first step, we need to use Iris and check if it converges within this perceptron algorithm. Then we need to apply the algorithm onto IrisModified dataset and check the convergence status. \n",
    "\n",
    "Each datasets consists of the same amount of rows (100) and they have the same general properties.\n"
   ]
  },
  {
   "cell_type": "code",
   "execution_count": 245,
   "metadata": {},
   "outputs": [
    {
     "data": {
      "text/html": [
       "<div>\n",
       "<style scoped>\n",
       "    .dataframe tbody tr th:only-of-type {\n",
       "        vertical-align: middle;\n",
       "    }\n",
       "\n",
       "    .dataframe tbody tr th {\n",
       "        vertical-align: top;\n",
       "    }\n",
       "\n",
       "    .dataframe thead th {\n",
       "        text-align: right;\n",
       "    }\n",
       "</style>\n",
       "<table border=\"1\" class=\"dataframe\">\n",
       "  <thead>\n",
       "    <tr style=\"text-align: right;\">\n",
       "      <th></th>\n",
       "      <th>0</th>\n",
       "      <th>1</th>\n",
       "      <th>2</th>\n",
       "      <th>3</th>\n",
       "    </tr>\n",
       "  </thead>\n",
       "  <tbody>\n",
       "    <tr>\n",
       "      <th>count</th>\n",
       "      <td>99.000000</td>\n",
       "      <td>99.000000</td>\n",
       "      <td>99.000000</td>\n",
       "      <td>99.000000</td>\n",
       "    </tr>\n",
       "    <tr>\n",
       "      <th>mean</th>\n",
       "      <td>5.468687</td>\n",
       "      <td>3.096970</td>\n",
       "      <td>2.849495</td>\n",
       "      <td>0.779798</td>\n",
       "    </tr>\n",
       "    <tr>\n",
       "      <th>std</th>\n",
       "      <td>0.644545</td>\n",
       "      <td>0.477548</td>\n",
       "      <td>1.450501</td>\n",
       "      <td>0.566763</td>\n",
       "    </tr>\n",
       "    <tr>\n",
       "      <th>min</th>\n",
       "      <td>4.300000</td>\n",
       "      <td>2.000000</td>\n",
       "      <td>1.000000</td>\n",
       "      <td>0.100000</td>\n",
       "    </tr>\n",
       "    <tr>\n",
       "      <th>25%</th>\n",
       "      <td>5.000000</td>\n",
       "      <td>2.800000</td>\n",
       "      <td>1.500000</td>\n",
       "      <td>0.200000</td>\n",
       "    </tr>\n",
       "    <tr>\n",
       "      <th>50%</th>\n",
       "      <td>5.400000</td>\n",
       "      <td>3.100000</td>\n",
       "      <td>1.900000</td>\n",
       "      <td>0.600000</td>\n",
       "    </tr>\n",
       "    <tr>\n",
       "      <th>75%</th>\n",
       "      <td>5.900000</td>\n",
       "      <td>3.400000</td>\n",
       "      <td>4.350000</td>\n",
       "      <td>1.300000</td>\n",
       "    </tr>\n",
       "    <tr>\n",
       "      <th>max</th>\n",
       "      <td>7.000000</td>\n",
       "      <td>4.400000</td>\n",
       "      <td>5.100000</td>\n",
       "      <td>1.800000</td>\n",
       "    </tr>\n",
       "  </tbody>\n",
       "</table>\n",
       "</div>"
      ],
      "text/plain": [
       "               0          1          2          3\n",
       "count  99.000000  99.000000  99.000000  99.000000\n",
       "mean    5.468687   3.096970   2.849495   0.779798\n",
       "std     0.644545   0.477548   1.450501   0.566763\n",
       "min     4.300000   2.000000   1.000000   0.100000\n",
       "25%     5.000000   2.800000   1.500000   0.200000\n",
       "50%     5.400000   3.100000   1.900000   0.600000\n",
       "75%     5.900000   3.400000   4.350000   1.300000\n",
       "max     7.000000   4.400000   5.100000   1.800000"
      ]
     },
     "execution_count": 245,
     "metadata": {},
     "output_type": "execute_result"
    }
   ],
   "source": [
    "df = pd.read_csv('iris.csv', header=None)\n",
    "df.describe()"
   ]
  },
  {
   "cell_type": "code",
   "execution_count": 246,
   "metadata": {},
   "outputs": [
    {
     "data": {
      "text/html": [
       "<div>\n",
       "<style scoped>\n",
       "    .dataframe tbody tr th:only-of-type {\n",
       "        vertical-align: middle;\n",
       "    }\n",
       "\n",
       "    .dataframe tbody tr th {\n",
       "        vertical-align: top;\n",
       "    }\n",
       "\n",
       "    .dataframe thead th {\n",
       "        text-align: right;\n",
       "    }\n",
       "</style>\n",
       "<table border=\"1\" class=\"dataframe\">\n",
       "  <thead>\n",
       "    <tr style=\"text-align: right;\">\n",
       "      <th></th>\n",
       "      <th>0</th>\n",
       "      <th>1</th>\n",
       "      <th>2</th>\n",
       "      <th>3</th>\n",
       "    </tr>\n",
       "  </thead>\n",
       "  <tbody>\n",
       "    <tr>\n",
       "      <th>count</th>\n",
       "      <td>99.000000</td>\n",
       "      <td>99.000000</td>\n",
       "      <td>99.000000</td>\n",
       "      <td>99.000000</td>\n",
       "    </tr>\n",
       "    <tr>\n",
       "      <th>mean</th>\n",
       "      <td>5.468687</td>\n",
       "      <td>3.096970</td>\n",
       "      <td>2.849495</td>\n",
       "      <td>0.779798</td>\n",
       "    </tr>\n",
       "    <tr>\n",
       "      <th>std</th>\n",
       "      <td>0.644545</td>\n",
       "      <td>0.477548</td>\n",
       "      <td>1.450501</td>\n",
       "      <td>0.566763</td>\n",
       "    </tr>\n",
       "    <tr>\n",
       "      <th>min</th>\n",
       "      <td>4.300000</td>\n",
       "      <td>2.000000</td>\n",
       "      <td>1.000000</td>\n",
       "      <td>0.100000</td>\n",
       "    </tr>\n",
       "    <tr>\n",
       "      <th>25%</th>\n",
       "      <td>5.000000</td>\n",
       "      <td>2.800000</td>\n",
       "      <td>1.500000</td>\n",
       "      <td>0.200000</td>\n",
       "    </tr>\n",
       "    <tr>\n",
       "      <th>50%</th>\n",
       "      <td>5.400000</td>\n",
       "      <td>3.100000</td>\n",
       "      <td>1.900000</td>\n",
       "      <td>0.600000</td>\n",
       "    </tr>\n",
       "    <tr>\n",
       "      <th>75%</th>\n",
       "      <td>5.900000</td>\n",
       "      <td>3.400000</td>\n",
       "      <td>4.350000</td>\n",
       "      <td>1.300000</td>\n",
       "    </tr>\n",
       "    <tr>\n",
       "      <th>max</th>\n",
       "      <td>7.000000</td>\n",
       "      <td>4.400000</td>\n",
       "      <td>5.100000</td>\n",
       "      <td>1.800000</td>\n",
       "    </tr>\n",
       "  </tbody>\n",
       "</table>\n",
       "</div>"
      ],
      "text/plain": [
       "               0          1          2          3\n",
       "count  99.000000  99.000000  99.000000  99.000000\n",
       "mean    5.468687   3.096970   2.849495   0.779798\n",
       "std     0.644545   0.477548   1.450501   0.566763\n",
       "min     4.300000   2.000000   1.000000   0.100000\n",
       "25%     5.000000   2.800000   1.500000   0.200000\n",
       "50%     5.400000   3.100000   1.900000   0.600000\n",
       "75%     5.900000   3.400000   4.350000   1.300000\n",
       "max     7.000000   4.400000   5.100000   1.800000"
      ]
     },
     "execution_count": 246,
     "metadata": {},
     "output_type": "execute_result"
    }
   ],
   "source": [
    "df2 = pd.read_csv('irismodified.csv', header=None)\n",
    "df2.describe()"
   ]
  },
  {
   "cell_type": "markdown",
   "metadata": {},
   "source": [
    "### On the datasets:\n",
    "As you can see; values of mean, standart deviation, minimum of the columns and maximum of the columns are same. So, the general properties are not changed much. However, outputs are different which will cause us problem later on. \n",
    "\n",
    "So, in the code below, I had imported the Iris dataset as DataFrame df and shuffled it in anycase for the future use. Then allocated the first 4 columns as input vector X and the fifth column as output label y. Then encoded the labels as 1 and -1. If it is \"Iris-setosa\", the value in the rows will turn to -1. "
   ]
  },
  {
   "cell_type": "code",
   "execution_count": 97,
   "metadata": {},
   "outputs": [
    {
     "name": "stdout",
     "output_type": "stream",
     "text": [
      "      0    1    2    3                4\n",
      "2   4.7  3.2  1.3  0.2      Iris-setosa\n",
      "78  6.0  2.9  4.5  1.5  Iris-versicolor\n",
      "50  7.0  3.2  4.7  1.4  Iris-versicolor\n",
      "45  4.8  3.0  1.4  0.3      Iris-setosa\n",
      "52  6.9  3.1  4.9  1.5  Iris-versicolor\n",
      "..  ...  ...  ...  ...              ...\n",
      "48  5.3  3.7  1.5  0.2      Iris-setosa\n",
      "25  5.0  3.0  1.6  0.2      Iris-setosa\n",
      "68  6.2  2.2  4.5  1.5  Iris-versicolor\n",
      "88  5.6  3.0  4.1  1.3  Iris-versicolor\n",
      "74  6.4  2.9  4.3  1.3  Iris-versicolor\n",
      "\n",
      "[99 rows x 5 columns]\n"
     ]
    }
   ],
   "source": [
    "os.chdir(\"C:\\\\Users\\\\esrac\\\\Downloads\")\n",
    "df = pd.read_csv('iris.csv', header=None)\n",
    "df_shuffled = df.sample(frac=1)\n",
    "print(df_shuffled)\n",
    "y = df_shuffled.iloc[0:,4].values\n",
    "y = np.where(y == \"Iris-setosa\", -1 ,1)\n",
    "X = df_shuffled.iloc[0:, 0:4].values"
   ]
  },
  {
   "cell_type": "markdown",
   "metadata": {},
   "source": [
    "## Result after Training: \n",
    "After creating the perceptron with learning rate as 0.1 and number of iterations as 1000, I called fit function with inputs X and target outputs y. Then checked the errors. As you can see, it immediately converged."
   ]
  },
  {
   "cell_type": "code",
   "execution_count": 98,
   "metadata": {},
   "outputs": [
    {
     "name": "stdout",
     "output_type": "stream",
     "text": [
      "[7, 0, 0, 0, 0, 0, 0, 0, 0, 0, 0, 0, 0, 0, 0, 0, 0, 0, 0, 0, 0, 0, 0, 0, 0, 0, 0, 0, 0, 0, 0, 0, 0, 0, 0, 0, 0, 0, 0, 0, 0, 0, 0, 0, 0, 0, 0, 0, 0, 0, 0, 0, 0, 0, 0, 0, 0, 0, 0, 0, 0, 0, 0, 0, 0, 0, 0, 0, 0, 0, 0, 0, 0, 0, 0, 0, 0, 0, 0, 0, 0, 0, 0, 0, 0, 0, 0, 0, 0, 0, 0, 0, 0, 0, 0, 0, 0, 0, 0, 0, 0, 0, 0, 0, 0, 0, 0, 0, 0, 0, 0, 0, 0, 0, 0, 0, 0, 0, 0, 0, 0, 0, 0, 0, 0, 0, 0, 0, 0, 0, 0, 0, 0, 0, 0, 0, 0, 0, 0, 0, 0, 0, 0, 0, 0, 0, 0, 0, 0, 0, 0, 0, 0, 0, 0, 0, 0, 0, 0, 0, 0, 0, 0, 0, 0, 0, 0, 0, 0, 0, 0, 0, 0, 0, 0, 0, 0, 0, 0, 0, 0, 0, 0, 0, 0, 0, 0, 0, 0, 0, 0, 0, 0, 0, 0, 0, 0, 0, 0, 0, 0, 0, 0, 0, 0, 0, 0, 0, 0, 0, 0, 0, 0, 0, 0, 0, 0, 0, 0, 0, 0, 0, 0, 0, 0, 0, 0, 0, 0, 0, 0, 0, 0, 0, 0, 0, 0, 0, 0, 0, 0, 0, 0, 0, 0, 0, 0, 0, 0, 0, 0, 0, 0, 0, 0, 0, 0, 0, 0, 0, 0, 0, 0, 0, 0, 0, 0, 0, 0, 0, 0, 0, 0, 0, 0, 0, 0, 0, 0, 0, 0, 0, 0, 0, 0, 0, 0, 0, 0, 0, 0, 0, 0, 0, 0, 0, 0, 0, 0, 0, 0, 0, 0, 0, 0, 0, 0, 0, 0, 0, 0, 0, 0, 0, 0, 0, 0, 0, 0, 0, 0, 0, 0, 0, 0, 0, 0, 0, 0, 0, 0, 0, 0, 0, 0, 0, 0, 0, 0, 0, 0, 0, 0, 0, 0, 0, 0, 0, 0, 0, 0, 0, 0, 0, 0, 0, 0, 0, 0, 0, 0, 0, 0, 0, 0, 0, 0, 0, 0, 0, 0, 0, 0, 0, 0, 0, 0, 0, 0, 0, 0, 0, 0, 0, 0, 0, 0, 0, 0, 0, 0, 0, 0, 0, 0, 0, 0, 0, 0, 0, 0, 0, 0, 0, 0, 0, 0, 0, 0, 0, 0, 0, 0, 0, 0, 0, 0, 0, 0, 0, 0, 0, 0, 0, 0, 0, 0, 0, 0, 0, 0, 0, 0, 0, 0, 0, 0, 0, 0, 0, 0, 0, 0, 0, 0, 0, 0, 0, 0, 0, 0, 0, 0, 0, 0, 0, 0, 0, 0, 0, 0, 0, 0, 0, 0, 0, 0, 0, 0, 0, 0, 0, 0, 0, 0, 0, 0, 0, 0, 0, 0, 0, 0, 0, 0, 0, 0, 0, 0, 0, 0, 0, 0, 0, 0, 0, 0, 0, 0, 0, 0, 0, 0, 0, 0, 0, 0, 0, 0, 0, 0, 0, 0, 0, 0, 0, 0, 0, 0, 0, 0, 0, 0, 0, 0, 0, 0, 0, 0, 0, 0, 0, 0, 0, 0, 0, 0, 0, 0, 0, 0, 0, 0, 0, 0, 0, 0, 0, 0, 0, 0, 0, 0, 0, 0, 0, 0, 0, 0, 0, 0, 0, 0, 0, 0, 0, 0, 0, 0, 0, 0, 0, 0, 0, 0, 0, 0, 0, 0, 0, 0, 0, 0, 0, 0, 0, 0, 0, 0, 0, 0, 0, 0, 0, 0, 0, 0, 0, 0, 0, 0, 0, 0, 0, 0, 0, 0, 0, 0, 0, 0, 0, 0, 0, 0, 0, 0, 0, 0, 0, 0, 0, 0, 0, 0, 0, 0, 0, 0, 0, 0, 0, 0, 0, 0, 0, 0, 0, 0, 0, 0, 0, 0, 0, 0, 0, 0, 0, 0, 0, 0, 0, 0, 0, 0, 0, 0, 0, 0, 0, 0, 0, 0, 0, 0, 0, 0, 0, 0, 0, 0, 0, 0, 0, 0, 0, 0, 0, 0, 0, 0, 0, 0, 0, 0, 0, 0, 0, 0, 0, 0, 0, 0, 0, 0, 0, 0, 0, 0, 0, 0, 0, 0, 0, 0, 0, 0, 0, 0, 0, 0, 0, 0, 0, 0, 0, 0, 0, 0, 0, 0, 0, 0, 0, 0, 0, 0, 0, 0, 0, 0, 0, 0, 0, 0, 0, 0, 0, 0, 0, 0, 0, 0, 0, 0, 0, 0, 0, 0, 0, 0, 0, 0, 0, 0, 0, 0, 0, 0, 0, 0, 0, 0, 0, 0, 0, 0, 0, 0, 0, 0, 0, 0, 0, 0, 0, 0, 0, 0, 0, 0, 0, 0, 0, 0, 0, 0, 0, 0, 0, 0, 0, 0, 0, 0, 0, 0, 0, 0, 0, 0, 0, 0, 0, 0, 0, 0, 0, 0, 0, 0, 0, 0, 0, 0, 0, 0, 0, 0, 0, 0, 0, 0, 0, 0, 0, 0, 0, 0, 0, 0, 0, 0, 0, 0, 0, 0, 0, 0, 0, 0, 0, 0, 0, 0, 0, 0, 0, 0, 0, 0, 0, 0, 0, 0, 0, 0, 0, 0, 0, 0, 0, 0, 0, 0, 0, 0, 0, 0, 0, 0, 0, 0, 0, 0, 0, 0, 0, 0, 0, 0, 0, 0, 0, 0, 0, 0, 0, 0, 0, 0, 0, 0, 0, 0, 0, 0, 0, 0, 0, 0, 0, 0, 0, 0, 0, 0, 0, 0, 0, 0, 0, 0, 0, 0, 0, 0, 0, 0, 0, 0, 0, 0, 0, 0, 0, 0, 0, 0, 0, 0, 0, 0, 0, 0, 0, 0, 0, 0, 0, 0, 0, 0, 0, 0, 0, 0, 0, 0, 0, 0, 0, 0, 0, 0, 0, 0, 0, 0, 0, 0, 0, 0, 0, 0, 0, 0, 0, 0, 0, 0, 0, 0, 0, 0, 0, 0, 0, 0, 0, 0, 0, 0, 0, 0, 0, 0, 0, 0, 0, 0, 0, 0, 0, 0, 0, 0, 0, 0, 0]\n"
     ]
    }
   ],
   "source": [
    "ppn=Perceptron(learning_rate=0.1,iterations=1000)\n",
    "ppn.fit(X,y)\n",
    "print(ppn.errors_)"
   ]
  },
  {
   "cell_type": "markdown",
   "metadata": {},
   "source": [
    "## Graphically shown error list and suitable weights"
   ]
  },
  {
   "cell_type": "code",
   "execution_count": 99,
   "metadata": {},
   "outputs": [
    {
     "data": {
      "image/png": "[encoded data removed]",
      "text/plain": [
       "<Figure size 432x288 with 1 Axes>"
      ]
     },
     "metadata": {
      "needs_background": "light"
     },
     "output_type": "display_data"
    },
    {
     "name": "stdout",
     "output_type": "stream",
     "text": [
      "[-0.2  -0.3  -0.86  1.36  0.64]\n"
     ]
    }
   ],
   "source": [
    "plt.plot(range(1,len(ppn.errors_) + 1),ppn.errors_, marker='o')\n",
    "#plt.xlabel = 'Epochs'\n",
    "#plt.ylabel = '# of Misclassifications'\n",
    "plt.xlabel('Epochs')\n",
    "plt.ylabel('# of Misclassifications')\n",
    "plt.title('Versicolor vs Setosa Error List')\n",
    "plt.show()\n",
    "\n",
    "print(ppn.w_)"
   ]
  },
  {
   "cell_type": "markdown",
   "metadata": {},
   "source": [
    "## IrisModified DataSet\n",
    "\n",
    "We had prepared the dataset as we had done in the iris dataset, now we had given names X2 to input vector and y2 to label vector."
   ]
  },
  {
   "cell_type": "code",
   "execution_count": 105,
   "metadata": {},
   "outputs": [
    {
     "name": "stdout",
     "output_type": "stream",
     "text": [
      "      0    1    2    3                4\n",
      "78  6.0  2.9  4.5  1.5  Iris-versicolor\n",
      "94  5.6  2.7  4.2  1.3  Iris-versicolor\n",
      "5   5.4  3.9  1.7  0.4      Iris-setosa\n",
      "66  5.6  3.0  4.5  1.5  Iris-versicolor\n",
      "59  5.2  2.7  3.9  1.4  Iris-versicolor\n",
      "..  ...  ...  ...  ...              ...\n",
      "36  5.5  3.5  1.3  0.2      Iris-setosa\n",
      "12  4.8  3.0  1.4  0.1      Iris-setosa\n",
      "42  4.4  3.2  1.3  0.2      Iris-setosa\n",
      "64  5.6  2.9  3.6  1.3  Iris-versicolor\n",
      "57  4.9  2.4  3.3  1.0  Iris-versicolor\n",
      "\n",
      "[99 rows x 5 columns]\n",
      "[[6.  2.9 4.5 1.5]\n",
      " [5.6 2.7 4.2 1.3]\n",
      " [5.4 3.9 1.7 0.4]\n",
      " [5.6 3.  4.5 1.5]\n",
      " [5.2 2.7 3.9 1.4]\n",
      " [6.7 3.1 4.7 1.5]\n",
      " [4.4 2.9 1.4 0.2]\n",
      " [4.8 3.1 1.6 0.2]\n",
      " [6.3 2.3 4.4 1.3]\n",
      " [5.7 2.8 4.5 1.3]\n",
      " [4.8 3.  1.4 0.3]\n",
      " [7.  3.2 4.7 1.4]\n",
      " [6.1 2.8 4.  1.3]\n",
      " [4.5 2.3 1.3 0.3]\n",
      " [5.5 2.4 3.8 1.1]\n",
      " [5.1 3.3 1.7 0.5]\n",
      " [4.9 3.1 1.5 0.1]\n",
      " [6.9 3.1 4.9 1.5]\n",
      " [5.4 3.4 1.5 0.4]\n",
      " [5.1 3.8 1.6 0.2]\n",
      " [5.1 3.7 1.5 0.4]\n",
      " [5.7 2.9 4.2 1.3]\n",
      " [4.4 3.  1.3 0.2]\n",
      " [5.8 2.7 4.1 1. ]\n",
      " [6.4 3.2 4.5 1.5]\n",
      " [6.7 3.  5.  1.7]\n",
      " [4.6 3.6 1.  0.2]\n",
      " [4.6 3.1 1.5 0.2]\n",
      " [5.  3.  1.6 0.2]\n",
      " [6.8 2.8 4.8 1.4]\n",
      " [4.7 3.2 1.3 0.2]\n",
      " [5.7 2.6 3.5 1. ]\n",
      " [5.  3.6 1.4 0.2]\n",
      " [5.  3.5 1.3 0.3]\n",
      " [6.1 2.9 4.7 1.4]\n",
      " [5.  3.4 1.6 0.4]\n",
      " [5.8 2.6 4.  1.2]\n",
      " [6.2 2.9 4.3 1.3]\n",
      " [5.4 3.4 1.7 0.2]\n",
      " [4.3 3.  1.1 0.1]\n",
      " [5.7 3.8 1.7 0.3]\n",
      " [5.2 4.1 1.5 0.1]\n",
      " [5.5 4.2 1.4 0.2]\n",
      " [5.3 3.7 1.5 0.2]\n",
      " [5.  2.3 3.3 1. ]\n",
      " [5.  3.5 1.6 0.6]\n",
      " [5.5 2.5 4.  1.3]\n",
      " [4.9 3.  1.4 0.2]\n",
      " [6.  2.2 4.  1. ]\n",
      " [4.9 3.1 1.5 0.1]\n",
      " [5.1 2.5 3.  1.1]\n",
      " [5.1 3.8 1.5 0.3]\n",
      " [5.7 3.  4.2 1.2]\n",
      " [5.1 3.4 1.5 0.2]\n",
      " [6.3 3.3 4.7 1.6]\n",
      " [5.6 2.5 3.9 1.1]\n",
      " [6.6 3.  4.4 1.4]\n",
      " [5.9 3.  4.2 1.5]\n",
      " [5.5 2.6 4.4 1.2]\n",
      " [5.1 3.8 1.9 0.4]\n",
      " [5.5 2.3 4.  1.3]\n",
      " [5.2 3.4 1.4 0.2]\n",
      " [6.1 2.8 4.7 1.2]\n",
      " [4.9 3.1 1.5 0.1]\n",
      " [5.8 2.7 3.9 1.2]\n",
      " [5.4 3.7 1.5 0.2]\n",
      " [5.  3.4 1.5 0.2]\n",
      " [5.4 3.  4.5 1.5]\n",
      " [6.3 2.5 4.9 1.5]\n",
      " [6.  2.7 5.1 1.6]\n",
      " [4.7 3.2 1.6 0.2]\n",
      " [4.6 3.2 1.4 0.2]\n",
      " [5.8 4.  1.2 0.2]\n",
      " [4.8 3.4 1.9 0.2]\n",
      " [6.7 3.1 4.4 1.4]\n",
      " [6.1 3.  4.6 1.4]\n",
      " [5.9 3.2 4.8 1.8]\n",
      " [5.1 3.5 1.4 0.3]\n",
      " [4.6 3.4 1.4 0.3]\n",
      " [5.  3.2 1.2 0.2]\n",
      " [5.  2.  3.5 1. ]\n",
      " [5.5 2.4 3.7 1. ]\n",
      " [6.  3.4 4.5 1.6]\n",
      " [5.  3.3 1.4 0.2]\n",
      " [5.2 3.5 1.5 0.2]\n",
      " [6.6 2.9 4.6 1.3]\n",
      " [4.8 3.4 1.6 0.2]\n",
      " [5.1 3.5 1.4 0.2]\n",
      " [6.2 2.2 4.5 1.5]\n",
      " [5.6 3.  4.1 1.3]\n",
      " [6.4 2.9 4.3 1.3]\n",
      " [6.5 2.8 4.6 1.5]\n",
      " [5.4 3.9 1.3 0.4]\n",
      " [5.7 4.4 1.5 0.4]\n",
      " [5.5 3.5 1.3 0.2]\n",
      " [4.8 3.  1.4 0.1]\n",
      " [4.4 3.2 1.3 0.2]\n",
      " [5.6 2.9 3.6 1.3]\n",
      " [4.9 2.4 3.3 1. ]]\n"
     ]
    }
   ],
   "source": [
    "df2 = pd.read_csv('irismodified.csv', header=None)\n",
    "df2_shuffled = df2.sample(frac=1)\n",
    "print(df2_shuffled)\n",
    "y2 = df2_shuffled.iloc[:,4].values\n",
    "y2 = np.where(y2 == \"Iris-setosa\", -1 ,1)\n",
    "X2 = df2_shuffled.iloc[:, 0:4].values\n",
    "print(X2)"
   ]
  },
  {
   "cell_type": "markdown",
   "metadata": {},
   "source": [
    "## Results of Perceptron on IrisModified Dataset\n",
    "\n",
    "So,as you can see from the below, it did not converge on iteration of 1000. Let's check out why from data visualization tools."
   ]
  },
  {
   "cell_type": "code",
   "execution_count": 101,
   "metadata": {},
   "outputs": [
    {
     "name": "stdout",
     "output_type": "stream",
     "text": [
      "[33, 21, 22, 24, 21, 22, 24, 21, 22, 21, 24, 21, 24, 21, 24, 19, 21, 20, 21, 24, 19, 22, 21, 22, 23, 18, 21, 22, 21, 22, 21, 20, 21, 20, 22, 19, 21, 22, 21, 22, 21, 22, 24, 22, 17, 19, 24, 21, 18, 24, 22, 19, 21, 22, 24, 20, 22, 16, 22, 22, 21, 22, 20, 19, 22, 22, 21, 20, 22, 19, 24, 19, 22, 24, 18, 21, 22, 20, 22, 21, 22, 20, 21, 22, 20, 19, 22, 24, 18, 21, 22, 21, 20, 24, 19, 18, 21, 22, 22, 21, 22, 22, 21, 22, 21, 20, 19, 22, 22, 21, 20, 24, 18, 19, 24, 19, 18, 25, 17, 20, 20, 23, 20, 20, 23, 18, 22, 19, 18, 24, 19, 18, 19, 22, 24, 22, 19, 18, 21, 22, 22, 21, 22, 23, 20, 24, 18, 21, 22, 22, 21, 22, 24, 19, 20, 24, 18, 21, 22, 22, 21, 20, 24, 19, 20, 24, 19, 20, 22, 22, 21, 22, 22, 19, 21, 20, 22, 22, 19, 22, 22, 19, 22, 22, 22, 19, 22, 22, 23, 18, 19, 20, 18, 21, 22, 22, 21, 22, 22, 19, 20, 21, 20, 22, 22, 19, 22, 22, 22, 19, 22, 22, 22, 21, 23, 19, 21, 24, 17, 20, 22, 19, 20, 21, 23, 19, 21, 20, 22, 22, 19, 21, 24, 18, 22, 22, 19, 21, 20, 22, 22, 22, 22, 22, 19, 24, 18, 19, 20, 22, 21, 23, 19, 22, 22, 19, 23, 17, 22, 22, 23, 18, 20, 22, 19, 20, 22, 22, 20, 22, 19, 20, 22, 22, 24, 22, 19, 20, 22, 22, 20, 22, 19, 20, 22, 22, 24, 22, 19, 20, 22, 22, 22, 22, 20, 20, 24, 19, 24, 20, 24, 19, 20, 22, 19, 18, 22, 20, 22, 19, 18, 20, 22, 20, 22, 19, 20, 22, 20, 22, 16, 20, 22, 19, 20, 22, 22, 24, 20, 24, 19, 20, 22, 22, 19, 18, 22, 20, 22, 19, 18, 22, 20, 20, 24, 19, 20, 22, 20, 22, 19, 20, 22, 22, 22, 22, 20, 22, 16, 20, 22, 19, 20, 22, 22, 24, 20, 24, 19, 20, 22, 20, 24, 19, 22, 22, 22, 21, 25, 18, 17, 22, 22, 22, 20, 22, 18, 17, 22, 22, 22, 22, 22, 22, 22, 20, 18, 17, 22, 22, 22, 22, 22, 22, 22, 18, 22, 22, 22, 22, 22, 20, 24, 19, 22, 22, 22, 20, 22, 18, 24, 18, 19, 20, 22, 18, 22, 22, 22, 20, 24, 19, 22, 22, 22, 20, 22, 18, 19, 22, 22, 22, 22, 22, 18, 22, 22, 22, 22, 22, 20, 24, 15, 22, 24, 20, 22, 18, 22, 22, 22, 18, 22, 22, 20, 18, 20, 22, 18, 20, 22, 20, 17, 22, 22, 22, 22, 22, 22, 22, 22, 22, 22, 16, 20, 18, 17, 22, 22, 22, 22, 22, 22, 16, 20, 18, 22, 18, 22, 22, 18, 22, 18, 22, 22, 22, 22, 22, 22, 20, 24, 18, 17, 22, 18, 22, 22, 22, 22, 22, 22, 18, 17, 22, 22, 22, 22, 22, 22, 22, 20, 24, 18, 17, 22, 18, 22, 22, 22, 22, 22, 20, 24, 18, 17, 22, 18, 22, 22, 22, 22, 22, 16, 20, 18, 22, 18, 22, 22, 18, 22, 22, 22, 22, 18, 22, 22, 22, 20, 24, 18, 19, 22, 22, 18, 22, 22, 22, 22, 22, 16, 20, 18, 17, 22, 22, 22, 22, 18, 22, 22, 22, 22, 20, 24, 18, 17, 22, 18, 22, 22, 22, 22, 22, 18, 22, 22, 22, 18, 22, 18, 22, 22, 20, 22, 18, 22, 18, 18, 22, 22, 22, 22, 18, 22, 22, 22, 22, 22, 18, 18, 22, 22, 22, 22, 22, 22, 22, 18, 17, 22, 18, 22, 22, 22, 22, 22, 22, 22, 16, 20, 18, 22, 18, 22, 22, 18, 22, 22, 22, 22, 22, 16, 20, 18, 22, 18, 22, 22, 22, 22, 18, 22, 16, 20, 18, 22, 18, 22, 22, 22, 22, 18, 18, 22, 22, 22, 22, 22, 18, 18, 22, 22, 22, 22, 22, 22, 22, 18, 22, 20, 22, 18, 22, 18, 22, 18, 22, 18, 22, 22, 22, 22, 22, 18, 18, 22, 22, 22, 22, 22, 18, 18, 22, 22, 22, 22, 22, 22, 22, 18, 22, 16, 20, 18, 22, 18, 22, 22, 18, 22, 22, 18, 22, 22, 22, 22, 22, 16, 20, 18, 22, 22, 16, 20, 18, 22, 18, 22, 22, 22, 22, 18, 22, 18, 22, 18, 22, 22, 22, 22, 22, 18, 18, 22, 22, 22, 22, 18, 22, 22, 22, 22, 22, 16, 20, 18, 22, 16, 20, 18, 22, 18, 22, 18, 22, 22, 22, 22, 22, 18, 18, 22, 22, 22, 22, 22, 18, 18, 22, 22, 22, 22, 22, 22, 22, 18, 22, 16, 20, 18, 22, 22, 20, 22, 18, 22, 18, 22, 22, 18, 22, 22, 18, 18, 22, 22, 22, 22, 18, 22, 22, 22, 22, 22, 16, 20, 18, 22, 18, 22, 18, 22, 22, 22, 22, 22, 18, 22, 18, 18, 22, 22, 22, 22, 22, 22, 22, 20, 22, 18, 22, 18, 22, 22, 20, 22, 18, 22, 18, 22, 22, 18, 22, 22, 18, 18, 22, 22, 22, 18, 22, 22, 22, 22, 22, 22, 20, 22, 18, 22, 22, 18, 22, 18, 18, 22, 22, 22, 22, 22, 18, 18, 22, 22, 22, 22, 22, 18, 18, 22, 22, 22, 22, 22, 22, 22, 18, 22, 18, 18, 22, 22, 22, 22, 22, 22, 22, 16, 20, 18, 22, 20, 22, 18, 22, 22, 18, 22, 18, 18, 22, 22, 22, 22, 22, 18, 22, 18, 22, 22, 18, 22, 22, 22, 22, 22, 18, 22, 20, 22, 18, 22, 18, 22, 18, 22, 22, 18, 22, 22, 22, 22, 22, 18, 22, 18, 22, 22, 22, 22, 22, 16, 20, 18, 22, 20, 22, 18, 22]\n"
     ]
    }
   ],
   "source": [
    "ppn2=Perceptron(learning_rate=0.1,iterations=1000)\n",
    "ppn2.fit(X2,y2)\n",
    "print(ppn2.errors_)"
   ]
  },
  {
   "cell_type": "markdown",
   "metadata": {},
   "source": [
    "## Column-wise visualization\n",
    "As you can see below, even though the general properties are still the same, the data spread was changed. Blue dotted graphs belong to Iris dataset, where the red ones are from IrisModified dataset. It seems the Iris-setosa and Iris-versicolor difference was less obvious from the dataset. "
   ]
  },
  {
   "cell_type": "code",
   "execution_count": 102,
   "metadata": {},
   "outputs": [
    {
     "name": "stdout",
     "output_type": "stream",
     "text": [
      "Blue dots belong to iris dataset where reds are from irismodified dataset\n"
     ]
    },
    {
     "data": {
      "image/png": "[encoded data removed]",
      "text/plain": [
       "<Figure size 432x288 with 1 Axes>"
      ]
     },
     "metadata": {
      "needs_background": "light"
     },
     "output_type": "display_data"
    },
    {
     "data": {
      "image/png": "[encoded data removed]",
      "text/plain": [
       "<Figure size 432x288 with 1 Axes>"
      ]
     },
     "metadata": {
      "needs_background": "light"
     },
     "output_type": "display_data"
    },
    {
     "data": {
      "image/png": "[encoded data removed]",
      "text/plain": [
       "<Figure size 432x288 with 1 Axes>"
      ]
     },
     "metadata": {
      "needs_background": "light"
     },
     "output_type": "display_data"
    },
    {
     "data": {
      "image/png": "[encoded data removed]",
      "text/plain": [
       "<Figure size 432x288 with 1 Axes>"
      ]
     },
     "metadata": {
      "needs_background": "light"
     },
     "output_type": "display_data"
    },
    {
     "data": {
      "image/png": "[encoded data removed]",
      "text/plain": [
       "<Figure size 432x288 with 1 Axes>"
      ]
     },
     "metadata": {
      "needs_background": "light"
     },
     "output_type": "display_data"
    },
    {
     "data": {
      "image/png": "[encoded data removed]",
      "text/plain": [
       "<Figure size 432x288 with 1 Axes>"
      ]
     },
     "metadata": {
      "needs_background": "light"
     },
     "output_type": "display_data"
    },
    {
     "data": {
      "image/png": "[encoded data removed]",
      "text/plain": [
       "<Figure size 432x288 with 1 Axes>"
      ]
     },
     "metadata": {
      "needs_background": "light"
     },
     "output_type": "display_data"
    },
    {
     "data": {
      "image/png": "[encoded data removed]",
      "text/plain": [
       "<Figure size 432x288 with 1 Axes>"
      ]
     },
     "metadata": {
      "needs_background": "light"
     },
     "output_type": "display_data"
    }
   ],
   "source": [
    "#Let's check what is changed in original dataset\n",
    "#first 50 record is Setosa, others are Versicolor. \n",
    "df3 = pd.read_csv('iris.csv', header=None)\n",
    "df4= pd.read_csv('irismodified.csv', header=None)\n",
    "\n",
    "print(\"Blue dots belong to iris dataset where reds are from irismodified dataset\")\n",
    "\n",
    "df3.columns=['feat1', 'feat2', 'feat3', 'feat4','feat5']\n",
    "df4.columns=['feat1', 'feat2', 'feat3', 'feat4','feat5']\n",
    "\n",
    "df3.plot(x ='feat1', y='feat5', kind = 'scatter', color = \"blue\")\n",
    "plt.show()\n",
    "df4.plot(x ='feat1', y='feat5', kind = 'scatter' , color = \"red\")\n",
    "plt.show()\n",
    "\n",
    "df3.plot(x ='feat2', y='feat5', kind = 'scatter' , color = \"blue\")\n",
    "plt.show()\n",
    "df4.plot(x ='feat2', y='feat5', kind = 'scatter', color = \"red\")\n",
    "plt.show()\n",
    "\n",
    "df3.plot(x ='feat3', y='feat5', kind = 'scatter' , color = \"blue\")\n",
    "plt.show()\n",
    "df4.plot(x ='feat3', y='feat5', kind = 'scatter', color = \"red\")\n",
    "plt.show()\n",
    "\n",
    "\n",
    "df3.plot(x ='feat4', y='feat5', kind = 'scatter' , color = \"blue\")\n",
    "plt.show()\n",
    "df4.plot(x ='feat4', y='feat5', kind = 'scatter', color = \"red\")\n",
    "plt.show()"
   ]
  },
  {
   "cell_type": "markdown",
   "metadata": {},
   "source": [
    "## Data-wise visualization\n",
    "\n",
    "From the figures below, you can see at the first graph (which belongs to Iris dataset) is linearly sepearable. But, you can see there are outliers in the second graph, which belongs to IrisModified dataset obviously."
   ]
  },
  {
   "cell_type": "code",
   "execution_count": 81,
   "metadata": {},
   "outputs": [
    {
     "data": {
      "image/png": "[encoded data removed]",
      "text/plain": [
       "<Figure size 432x288 with 1 Axes>"
      ]
     },
     "metadata": {
      "needs_background": "light"
     },
     "output_type": "display_data"
    },
    {
     "data": {
      "image/png": "[encoded data removed]",
      "text/plain": [
       "<Figure size 432x288 with 1 Axes>"
      ]
     },
     "metadata": {
      "needs_background": "light"
     },
     "output_type": "display_data"
    }
   ],
   "source": [
    "y = df3\n",
    "x = y.iloc[0:100, [0, 2]].values\n",
    "plt.scatter(x[:50, 0], x[:50, 1], color='red')\n",
    "plt.scatter(x[50:100, 0], x[50:100, 1], color='blue')\n",
    "plt.scatter(x[100:150, 0], x[100:150, 1], color='yellow')\n",
    "plt.show()\n",
    "y = y.iloc[0:100, 4].values\n",
    "y = np.where(y == 'Iris-setosa', -1, 1)\n",
    "\n",
    "y = df4\n",
    "x = y.iloc[0:100, [0, 2]].values\n",
    "plt.scatter(x[:50, 0], x[:50, 1], color='red')\n",
    "plt.scatter(x[50:100, 0], x[50:100, 1], color='blue')\n",
    "plt.scatter(x[100:150, 0], x[100:150, 1], color='yellow')\n",
    "plt.show()\n",
    "y = y.iloc[0:100, 4].values\n",
    "y = np.where(y == 'Iris-setosa', -1, 1)\n",
    "#"
   ]
  },
  {
   "cell_type": "markdown",
   "metadata": {},
   "source": [
    "## Why did not the IrisModified converge?\n",
    "\n",
    "Perceptrons are very powerful, but a single perceptron with no hidden layer has some restrictions. Single layer perceptrons can only learn linearly seperable patterns. So, solutions?\n",
    "\n",
    "### 1- Do not use perceptron algorithm.\n",
    "We cannot do it, the task is converge it with a single perceptron. SVM would be OK for example.\n",
    "\n",
    "### 2- Use Multiple Perceptron algorithm.\n",
    "We cannot use it, the task is to converge with a single perceptron. No hidden layers can be added.\n",
    "\n",
    "### 3- Let there some misclassifications.\n",
    "This is an easy and intiutive way for the solution. There are outliers, and the algorithm has some limitations. So we need to give up on some accuracy and accept the weights from the minimum errors given.\n",
    "\n",
    "I had called this perceptron as sloppy perceptron because it lacks accuracy, a bit unpleasant and loose. However, it tries its best and tries to minimize the error. So, we should not blame the algorithm for the results. \n",
    "\n",
    "The algorithm itself is the same with our main Perceptron. However, I had added some modifications. Now there is a_ for minimum of the errors in the sequence. (I named it a_ due to \"accuracy\" reasons. But we can easily rename it as minimum.)\n",
    "\n",
    "A better algorithm would not run the training second time, but there were no restrictions on the assignment for the complexity. And the name is SloppyPerceptron, this is why, I did not make a faster approach. \n",
    "\n",
    "So, in this fit function, after taking the minimum numbers of the error in the iteration cycle, we re-run the training until we reach the minimum errored weights and return it. \n",
    "\n",
    "I also added best_result function for the predictions with the minimum errored weights (bestw_). Simple and useful. "
   ]
  },
  {
   "cell_type": "code",
   "execution_count": 296,
   "metadata": {},
   "outputs": [],
   "source": [
    "#Okay, so we have some outliers now. So, we need to set some threshold or let some misclassifications. \n",
    "\n",
    "class SloppyPerceptron:\n",
    "    def __init__(self, learning_rate=0.01, iterations=10):\n",
    "        self.learning_rate = learning_rate\n",
    "        self.iterations = iterations\n",
    "\n",
    "    def fit(self, X, y):\n",
    "        self.w_ = np.zeros(1 + X.shape[1])\n",
    "        self.errors_ = []\n",
    "        self.a_ = 0\n",
    "        self.bestw_ = np.zeros (1+X.shape[0])\n",
    "        \n",
    "        for _ in range(self.iterations):\n",
    "            errors = 0\n",
    "            #using zip function for the parallel iterations\n",
    "            zip_x_y = zip(X, y)\n",
    "            for xi, target in zip_x_y:\n",
    "                update = self.learning_rate * (target - self.predict(xi))\n",
    "                self.w_[1:] += update * xi\n",
    "                self.w_[0] += update\n",
    "                errors += int(update != 0.0)\n",
    "            self.errors_.append(errors)\n",
    "        self.a_=min(self.errors_)\n",
    "        print(\"Minimum misclassifications: \", self.a_)\n",
    "        \n",
    "        for _ in range (self.iterations):\n",
    "            errors = 0 \n",
    "            zip_x_y=zip(X,y)\n",
    "            for xi, target in zip_x_y:\n",
    "                if errors != self.a_:\n",
    "                    update = self.learning_rate * (target - self.predict(xi))\n",
    "                    self.w_[1:] += update*xi\n",
    "                    self.w_[0] += update\n",
    "                    errors += int(update !=0.0)\n",
    "                else:\n",
    "                    self.bestw_=self.w_\n",
    "        self.errors_.append(errors)\n",
    "        return self\n",
    "    \n",
    "    def calculated_input(self, X):\n",
    "        calculated_input = np.dot(X, self.w_[1:]) + self.w_[0]\n",
    "        return calculated_input\n",
    "    \n",
    "    def predict(self, X):\n",
    "        #the .where(self.calculated_input(X) >= 0.0, 1, -1) part is actually an activitation function\n",
    "        return np.where(self.calculated_input(X) >= 0.0, 1, -1)\n",
    "    \n",
    "    def best_result(self, X, weights):\n",
    "        net_input = np.dot(X, self.bestw_[1:]) + self.bestw_[0]\n",
    "        return np.where(net_input >= 0.0, 1, -1)\n",
    "    "
   ]
  },
  {
   "cell_type": "code",
   "execution_count": 304,
   "metadata": {},
   "outputs": [
    {
     "name": "stdout",
     "output_type": "stream",
     "text": [
      "      0    1    2    3                4\n",
      "24  4.8  3.4  1.9  0.2      Iris-setosa\n",
      "64  5.6  2.9  3.6  1.3  Iris-versicolor\n",
      "45  7.0  3.2  4.7  1.4      Iris-setosa\n",
      "62  6.0  2.2  4.0  1.0  Iris-versicolor\n",
      "71  6.1  2.8  4.0  1.3  Iris-versicolor\n",
      "..  ...  ...  ...  ...              ...\n",
      "87  6.3  2.3  4.4  1.3  Iris-versicolor\n",
      "20  5.4  3.4  1.7  0.2      Iris-setosa\n",
      "25  5.0  3.0  1.6  0.2      Iris-setosa\n",
      "70  5.9  3.2  4.8  1.8  Iris-versicolor\n",
      "96  5.7  2.9  4.2  1.3  Iris-versicolor\n",
      "\n",
      "[99 rows x 5 columns]\n",
      "[[4.8 3.4 1.9 0.2]\n",
      " [5.6 2.9 3.6 1.3]\n",
      " [7.  3.2 4.7 1.4]\n",
      " [6.  2.2 4.  1. ]\n",
      " [6.1 2.8 4.  1.3]\n",
      " [6.8 2.8 4.8 1.4]\n",
      " [5.1 3.4 1.5 0.2]\n",
      " [5.7 3.  4.2 1.2]\n",
      " [6.3 3.3 4.7 1.6]\n",
      " [5.5 2.3 4.  1.3]\n",
      " [5.2 3.4 1.4 0.2]\n",
      " [5.  3.4 1.6 0.4]\n",
      " [4.7 3.2 1.6 0.2]\n",
      " [5.  3.2 1.2 0.2]\n",
      " [6.4 2.9 4.3 1.3]\n",
      " [5.  3.3 1.4 0.2]\n",
      " [6.  2.7 5.1 1.6]\n",
      " [5.1 3.5 1.4 0.2]\n",
      " [5.8 2.7 3.9 1.2]\n",
      " [5.2 4.1 1.5 0.1]\n",
      " [6.4 3.2 4.5 1.5]\n",
      " [4.7 3.2 1.3 0.2]\n",
      " [5.  3.6 1.4 0.2]\n",
      " [5.4 3.9 1.7 0.4]\n",
      " [5.4 3.  4.5 1.5]\n",
      " [5.1 3.7 1.5 0.4]\n",
      " [5.  3.4 1.5 0.2]\n",
      " [6.7 3.1 4.7 1.5]\n",
      " [6.  2.9 4.5 1.5]\n",
      " [5.  2.  3.5 1. ]\n",
      " [4.8 3.4 1.6 0.2]\n",
      " [5.8 2.6 4.  1.2]\n",
      " [5.  3.5 1.3 0.3]\n",
      " [5.  3.5 1.6 0.6]\n",
      " [6.2 2.2 4.5 1.5]\n",
      " [5.1 3.8 1.6 0.2]\n",
      " [5.2 2.7 3.9 1.4]\n",
      " [4.4 3.2 1.3 0.2]\n",
      " [5.6 3.  4.5 1.5]\n",
      " [5.1 3.8 1.9 0.4]\n",
      " [5.7 4.4 1.5 0.4]\n",
      " [6.  3.4 4.5 1.6]\n",
      " [6.1 2.8 4.7 1.2]\n",
      " [5.6 2.7 4.2 1.3]\n",
      " [5.6 3.  4.1 1.3]\n",
      " [4.6 3.4 1.4 0.3]\n",
      " [5.1 3.5 1.4 0.3]\n",
      " [5.8 2.7 4.1 1. ]\n",
      " [4.3 3.  1.1 0.1]\n",
      " [4.4 2.9 1.4 0.2]\n",
      " [5.2 3.5 1.5 0.2]\n",
      " [4.9 3.  1.4 0.2]\n",
      " [6.1 2.9 4.7 1.4]\n",
      " [6.6 2.9 4.6 1.3]\n",
      " [6.7 3.1 4.4 1.4]\n",
      " [5.5 2.4 3.8 1.1]\n",
      " [5.6 2.5 3.9 1.1]\n",
      " [5.9 3.  4.2 1.5]\n",
      " [5.5 4.2 1.4 0.2]\n",
      " [6.2 2.9 4.3 1.3]\n",
      " [5.5 3.5 1.3 0.2]\n",
      " [5.  2.3 3.3 1. ]\n",
      " [5.3 3.7 1.5 0.2]\n",
      " [4.6 3.2 1.4 0.2]\n",
      " [4.9 3.1 1.5 0.1]\n",
      " [5.4 3.9 1.3 0.4]\n",
      " [4.6 3.6 1.  0.2]\n",
      " [4.4 3.  1.3 0.2]\n",
      " [4.9 2.4 3.3 1. ]\n",
      " [6.3 2.5 4.9 1.5]\n",
      " [5.1 3.8 1.5 0.3]\n",
      " [5.7 2.6 3.5 1. ]\n",
      " [4.9 3.1 1.5 0.1]\n",
      " [5.4 3.7 1.5 0.2]\n",
      " [5.5 2.4 3.7 1. ]\n",
      " [6.6 3.  4.4 1.4]\n",
      " [5.1 2.5 3.  1.1]\n",
      " [6.1 3.  4.6 1.4]\n",
      " [5.8 4.  1.2 0.2]\n",
      " [5.5 2.6 4.4 1.2]\n",
      " [4.6 3.1 1.5 0.2]\n",
      " [5.1 3.3 1.7 0.5]\n",
      " [4.8 3.1 1.6 0.2]\n",
      " [6.7 3.  5.  1.7]\n",
      " [4.5 2.3 1.3 0.3]\n",
      " [5.7 3.8 1.7 0.3]\n",
      " [6.5 2.8 4.6 1.5]\n",
      " [6.9 3.1 4.9 1.5]\n",
      " [4.8 3.  1.4 0.1]\n",
      " [4.9 3.1 1.5 0.1]\n",
      " [5.7 2.8 4.5 1.3]\n",
      " [5.5 2.5 4.  1.3]\n",
      " [4.8 3.  1.4 0.3]\n",
      " [5.4 3.4 1.5 0.4]\n",
      " [6.3 2.3 4.4 1.3]\n",
      " [5.4 3.4 1.7 0.2]\n",
      " [5.  3.  1.6 0.2]\n",
      " [5.9 3.2 4.8 1.8]\n",
      " [5.7 2.9 4.2 1.3]]\n"
     ]
    }
   ],
   "source": [
    "#Adding this here again for the easiness, but it is actually redundant\n",
    "\n",
    "df2 = pd.read_csv('irismodified.csv', header=None)\n",
    "df2_shuffled = df2.sample(frac=1)\n",
    "print(df2_shuffled)\n",
    "y2 = df2_shuffled.iloc[:,4].values\n",
    "y2 = np.where(y2 == \"Iris-setosa\", -1 ,1)\n",
    "X2 = df2_shuffled.iloc[:, 0:4].values\n",
    "print(X2)"
   ]
  },
  {
   "cell_type": "markdown",
   "metadata": {},
   "source": [
    "## Results of SloppyPerceptron on IrisModified Dataset\n",
    "\n",
    "So, the misclassifications might change between 10 to 20 on this algorithm. It changes due to shuffled version of the dataset, learning rate and number of the iterations. A cross validation segment would also help on this task. Accuracy is 90% to 80% within the algorithm and the set.\n",
    "\n",
    "On this version we had 13 misclassifications in total which ends up with 87% accuracy. You can see the favorable weights as [  5.2   -3.46  -1.96  10.2  -11.5 ] And different weights might also give the same misclassificated outputs, too. \n",
    "\n",
    "So, there were some trade-offs we had accepted on this case. We could minimize it with other tools of modelling. But, this was a way to do the predictions. Below you can see the misclassifications list and I will add it to our pdf as well. \n",
    "\n",
    "## In conclusion\n",
    "\n",
    "Single perceptrons are useful for linearly seperable datasets, but for non-linearly sepearable datasets, we need different tools or approaches for the better results. For a solution to our task, the average working perceptrons with some misclassifications were used. The weight vector from the minimum-error-given-sequence is accepted and chosen for the prediction. The code can be improved further for the complexity issues and the solutions can be enhanced to better with train-test data and some cross validation approaches, as well. "
   ]
  },
  {
   "cell_type": "code",
   "execution_count": 305,
   "metadata": {},
   "outputs": [
    {
     "name": "stdout",
     "output_type": "stream",
     "text": [
      "Minimum misclassifications:  13\n",
      "[21, 18, 18, 18, 16, 17, 20, 16, 16, 16, 18, 16, 18, 16, 16, 16, 16, 16, 18, 16, 16, 16, 16, 16, 18, 16, 15, 16, 16, 16, 16, 16, 17, 16, 16, 18, 16, 15, 20, 16, 16, 16, 16, 17, 16, 16, 16, 16, 16, 18, 16, 16, 16, 16, 16, 18, 16, 16, 16, 17, 16, 16, 16, 18, 16, 16, 17, 16, 16, 16, 18, 16, 16, 18, 16, 16, 16, 18, 16, 16, 18, 17, 20, 16, 16, 16, 18, 16, 18, 16, 16, 18, 17, 20, 16, 16, 16, 18, 16, 18, 16, 16, 18, 17, 20, 16, 16, 16, 16, 17, 18, 18, 18, 20, 18, 20, 16, 16, 16, 16, 18, 16, 16, 16, 16, 16, 18, 17, 23, 17, 16, 16, 16, 16, 18, 16, 16, 16, 16, 18, 16, 16, 16, 18, 16, 16, 16, 18, 16, 16, 16, 18, 16, 16, 16, 16, 16, 18, 16, 18, 16, 16, 16, 18, 16, 16, 16, 16, 16, 18, 16, 18, 16, 16, 16, 18, 16, 16, 16, 16, 16, 19, 16, 16, 16, 18, 18, 13, 20, 22, 18, 18, 20, 18, 16, 16, 16, 16, 16, 18, 16, 16, 18, 17, 22, 18, 22, 16, 18, 19, 20, 19, 18, 18, 20, 16, 16, 16, 16, 16, 18, 19, 18, 19, 20, 16, 20, 16, 20, 20, 16, 20, 16, 20, 20, 16, 20, 16, 20, 16, 20, 16, 20, 20, 16, 20, 16, 20, 16, 20, 16, 15, 16, 16, 16, 18, 16, 16, 16, 18, 16, 16, 16, 18, 16, 16, 16, 18, 16, 16, 16, 18, 16, 16, 16, 16, 18, 18, 15, 23, 20, 20, 16, 20, 16, 20, 16, 20, 20, 16, 20, 16, 20, 16, 20, 16, 20, 20, 16, 20, 16, 20, 16, 18, 20, 17, 16, 16, 16, 16, 18, 16, 16, 16, 18, 16, 16, 16, 18, 16, 16, 16, 16, 18, 18, 15, 23, 20, 20, 16, 20, 16, 20, 16, 20, 20, 16, 20, 16, 20, 16, 20, 16, 20, 16, 18, 20, 20, 18, 15, 19, 16, 20, 20, 16, 20, 16, 20, 16, 18, 20, 18, 15, 19, 20, 16, 20, 16, 18, 20, 17, 16, 16, 16, 16, 18, 16, 16, 16, 18, 16, 16, 16, 16, 18, 18, 15, 23, 20, 20, 16, 20, 16, 20, 16, 20, 16, 20, 20, 16, 20, 16, 20, 16, 20, 16, 18, 20, 20, 18, 15, 19, 16, 20, 20, 16, 20, 16, 20, 16, 18, 20, 16, 17, 16, 16, 16, 16, 16, 16, 18, 16, 16, 16, 18, 16, 16, 16, 18, 16, 16, 16, 16, 18, 16, 16, 16, 18, 16, 16, 16, 16, 18, 18, 15, 20, 16, 16, 16, 18, 16, 16, 16, 16, 16, 16, 16, 16, 18, 19, 16, 22, 18, 19, 20, 16, 20, 20, 16, 16, 20, 16, 20, 20, 16, 20, 20, 16, 16, 20, 16, 20, 20, 16, 20, 20, 16, 16, 20, 16, 18, 20, 20, 17, 16, 16, 16, 16, 18, 16, 16, 16, 18, 16, 16, 16, 16, 18, 18, 15, 23, 20, 20, 16, 20, 16, 20, 16, 20, 20, 16, 20, 16, 20, 16, 20, 16, 20, 20, 16, 20, 16, 20, 16, 20, 16, 18, 20, 16, 17, 16, 16, 16, 16, 16, 16, 18, 16, 16, 16, 18, 16, 16, 16, 18, 16, 16, 16, 18, 16, 16, 16, 16, 18, 16, 16, 16, 16, 18, 16, 18, 18, 15, 21, 20, 20, 16, 20, 16, 20, 16, 20, 16, 20, 16, 20, 20, 16, 20, 20, 16, 16, 20, 16, 20, 20, 16, 20, 20, 16, 16, 18, 17, 16, 16, 16, 16, 16, 18, 16, 16, 18, 18, 15, 21, 20, 20, 16, 20, 16, 20, 16, 20, 20, 16, 20, 16, 20, 16, 20, 16, 20, 20, 16, 20, 16, 20, 16, 20, 16, 18, 17, 16, 16, 16, 16, 16, 16, 18, 18, 16, 16, 16, 16, 16, 16, 18, 16, 16, 16, 18, 16, 16, 16, 18, 16, 16, 16, 18, 16, 16, 16, 16, 18, 16, 16, 16, 18, 16, 16, 16, 18, 16, 16, 16, 18, 16, 16, 16, 18, 16, 16, 16, 18, 16, 16, 16, 18, 16, 16, 16, 16, 18, 16, 16, 18, 16, 16, 16, 18, 16, 16, 16, 18, 16, 16, 16, 18, 16, 16, 16, 16, 18, 16, 16, 16, 16, 18, 18, 17, 19, 18, 18, 20, 17, 18, 23, 20, 16, 20, 17, 20, 17, 20, 20, 16, 20, 16, 16, 20, 16, 20, 20, 16, 20, 16, 20, 16, 20, 16, 20, 20, 16, 20, 16, 20, 16, 20, 16, 20, 20, 16, 20, 16, 20, 16, 18, 17, 16, 16, 16, 16, 16, 18, 18, 18, 16, 16, 16, 18, 16, 16, 16, 18, 16, 16, 16, 16, 18, 18, 17, 19, 20, 20, 20, 20, 17, 18, 16, 16, 18, 19, 16, 22, 20, 18, 20, 17, 18, 20, 20, 16, 20, 16, 20, 16, 20, 20, 16, 20, 16, 20, 16, 20, 16, 20, 16, 20, 20, 16, 20, 16, 20, 16, 20, 16, 20, 20, 16, 20, 16, 20, 16, 18, 20, 18, 15, 19, 18, 15, 19, 20, 20, 16, 20, 16, 20, 16, 20, 16, 20, 16, 20, 16, 18, 20, 20, 18, 15, 19, 16, 20, 16, 18, 20, 16, 20, 16, 20, 16, 20, 16, 18, 20, 16, 18, 15, 19, 16, 20, 16, 18, 20, 16, 20, 16, 20, 16, 20, 16, 18, 20, 16, 18, 16, 17, 16, 16, 16, 16, 16, 18, 18, 17, 19, 18, 16, 15, 18, 16, 22, 18, 19, 20, 16, 20, 16, 20, 20, 16, 20, 16, 20, 16, 16, 15, 19, 15, 19, 15, 19, 15, 19, 15, 19, 15, 18, 19, 16, 16, 16, 16, 16, 18, 16, 16, 16, 16, 18, 16, 16, 16, 18, 16, 16, 16, 18, 16, 16, 16, 18, 16, 16, 16, 18, 16, 16, 16, 16, 18, 13]\n",
      "Best weights are:  [  5.2   -3.46  -1.96  10.2  -11.5 ]\n",
      "['Iris-setosa' 'Iris-versicolor' 'Iris-setosa' 'Iris-versicolor'\n",
      " 'Iris-versicolor' 'Iris-versicolor' 'Iris-setosa' 'Iris-versicolor'\n",
      " 'Iris-versicolor' 'Iris-setosa' 'Iris-setosa' 'Iris-setosa' 'Iris-setosa'\n",
      " 'Iris-setosa' 'Iris-versicolor' 'Iris-versicolor' 'Iris-versicolor'\n",
      " 'Iris-setosa' 'Iris-versicolor' 'Iris-setosa' 'Iris-setosa' 'Iris-setosa'\n",
      " 'Iris-setosa' 'Iris-setosa' 'Iris-versicolor' 'Iris-setosa' 'Iris-setosa'\n",
      " 'Iris-versicolor' 'Iris-versicolor' 'Iris-versicolor' 'Iris-setosa'\n",
      " 'Iris-versicolor' 'Iris-setosa' 'Iris-setosa' 'Iris-versicolor'\n",
      " 'Iris-versicolor' 'Iris-versicolor' 'Iris-setosa' 'Iris-versicolor'\n",
      " 'Iris-setosa' 'Iris-setosa' 'Iris-versicolor' 'Iris-versicolor'\n",
      " 'Iris-versicolor' 'Iris-versicolor' 'Iris-setosa' 'Iris-setosa'\n",
      " 'Iris-versicolor' 'Iris-setosa' 'Iris-setosa' 'Iris-setosa' 'Iris-setosa'\n",
      " 'Iris-versicolor' 'Iris-versicolor' 'Iris-versicolor' 'Iris-versicolor'\n",
      " 'Iris-versicolor' 'Iris-versicolor' 'Iris-setosa' 'Iris-versicolor'\n",
      " 'Iris-setosa' 'Iris-versicolor' 'Iris-versicolor' 'Iris-versicolor'\n",
      " 'Iris-setosa' 'Iris-setosa' 'Iris-setosa' 'Iris-setosa' 'Iris-versicolor'\n",
      " 'Iris-versicolor' 'Iris-setosa' 'Iris-versicolor' 'Iris-setosa'\n",
      " 'Iris-setosa' 'Iris-versicolor' 'Iris-versicolor' 'Iris-versicolor'\n",
      " 'Iris-versicolor' 'Iris-setosa' 'Iris-versicolor' 'Iris-setosa'\n",
      " 'Iris-setosa' 'Iris-setosa' 'Iris-versicolor' 'Iris-setosa' 'Iris-setosa'\n",
      " 'Iris-setosa' 'Iris-setosa' 'Iris-setosa' 'Iris-setosa' 'Iris-versicolor'\n",
      " 'Iris-versicolor' 'Iris-versicolor' 'Iris-setosa' 'Iris-versicolor'\n",
      " 'Iris-setosa' 'Iris-setosa' 'Iris-versicolor' 'Iris-versicolor']\n",
      "Results:  ['Iris-setosa' 'Iris-versicolor' 'Iris-versicolor' 'Iris-versicolor'\n",
      " 'Iris-versicolor' 'Iris-versicolor' 'Iris-setosa' 'Iris-versicolor'\n",
      " 'Iris-versicolor' 'Iris-versicolor' 'Iris-setosa' 'Iris-setosa'\n",
      " 'Iris-setosa' 'Iris-setosa' 'Iris-versicolor' 'Iris-setosa'\n",
      " 'Iris-versicolor' 'Iris-setosa' 'Iris-versicolor' 'Iris-setosa'\n",
      " 'Iris-versicolor' 'Iris-setosa' 'Iris-setosa' 'Iris-setosa'\n",
      " 'Iris-versicolor' 'Iris-setosa' 'Iris-setosa' 'Iris-versicolor'\n",
      " 'Iris-versicolor' 'Iris-versicolor' 'Iris-setosa' 'Iris-versicolor'\n",
      " 'Iris-setosa' 'Iris-setosa' 'Iris-versicolor' 'Iris-setosa'\n",
      " 'Iris-versicolor' 'Iris-setosa' 'Iris-versicolor' 'Iris-setosa'\n",
      " 'Iris-setosa' 'Iris-versicolor' 'Iris-versicolor' 'Iris-versicolor'\n",
      " 'Iris-versicolor' 'Iris-setosa' 'Iris-setosa' 'Iris-versicolor'\n",
      " 'Iris-setosa' 'Iris-setosa' 'Iris-setosa' 'Iris-setosa' 'Iris-versicolor'\n",
      " 'Iris-versicolor' 'Iris-versicolor' 'Iris-versicolor' 'Iris-versicolor'\n",
      " 'Iris-versicolor' 'Iris-setosa' 'Iris-versicolor' 'Iris-setosa'\n",
      " 'Iris-versicolor' 'Iris-setosa' 'Iris-setosa' 'Iris-setosa' 'Iris-setosa'\n",
      " 'Iris-setosa' 'Iris-setosa' 'Iris-versicolor' 'Iris-versicolor'\n",
      " 'Iris-setosa' 'Iris-versicolor' 'Iris-setosa' 'Iris-setosa'\n",
      " 'Iris-versicolor' 'Iris-versicolor' 'Iris-versicolor' 'Iris-versicolor'\n",
      " 'Iris-setosa' 'Iris-versicolor' 'Iris-setosa' 'Iris-setosa' 'Iris-setosa'\n",
      " 'Iris-versicolor' 'Iris-setosa' 'Iris-setosa' 'Iris-versicolor'\n",
      " 'Iris-versicolor' 'Iris-setosa' 'Iris-setosa' 'Iris-versicolor'\n",
      " 'Iris-versicolor' 'Iris-setosa' 'Iris-setosa' 'Iris-versicolor'\n",
      " 'Iris-setosa' 'Iris-setosa' 'Iris-versicolor' 'Iris-versicolor']\n",
      "Accuracy is:  0.87\n"
     ]
    }
   ],
   "source": [
    "ppn3=SloppyPerceptron(learning_rate=0.1,iterations=1000)\n",
    "ppn3.fit(X2,y2)\n",
    "print(ppn3.errors_)\n",
    "calc_weights=ppn3.bestw_\n",
    "print(\"Best weights are: \", calc_weights)\n",
    "results = ppn3.best_result(X2, ppn3.bestw_)\n",
    "results = np.where(results == -1, \"Iris-setosa\" ,\"Iris-versicolor\")\n",
    "y2 = np.where(y2 == -1, \"Iris-setosa\" ,\"Iris-versicolor\")\n",
    "print(y2)\n",
    "print(\"Results: \", results)\n",
    "accuracy = 1-( ppn3.a_ / (1+X2.shape[0]))\n",
    "print(\"Accuracy is: \", accuracy)"
   ]
  },
  {
   "cell_type": "code",
   "execution_count": 306,
   "metadata": {},
   "outputs": [],
   "source": [
    "results = np.where(results == \"Iris-setosa\", -1 ,1)\n",
    "y2 = np.where(y2 ==\"Iris-setosa\", -1 ,1)"
   ]
  },
  {
   "cell_type": "code",
   "execution_count": 307,
   "metadata": {
    "scrolled": true
   },
   "outputs": [
    {
     "name": "stdout",
     "output_type": "stream",
     "text": [
      "\n",
      "Difference of predicted and actual outputs :\n",
      "     Predicted  Actual  Score_diff\n",
      "0          -1      -1           0\n",
      "1           1       1           0\n",
      "2           1      -1           2\n",
      "3           1       1           0\n",
      "4           1       1           0\n",
      "..        ...     ...         ...\n",
      "94          1       1           0\n",
      "95         -1      -1           0\n",
      "96         -1      -1           0\n",
      "97          1       1           0\n",
      "98          1       1           0\n",
      "\n",
      "[99 rows x 3 columns]\n"
     ]
    }
   ],
   "source": [
    "dataset = pd.DataFrame({'Predicted': results, 'Actual': y2})\n",
    "   \n",
    "  \n",
    "dataset['Score_diff'] = dataset['Predicted'].sub(dataset['Actual'], axis = 0) \n",
    "print(\"\\nDifference of predicted and actual outputs :\\n\", dataset) "
   ]
  },
  {
   "cell_type": "code",
   "execution_count": 308,
   "metadata": {},
   "outputs": [
    {
     "data": {
      "text/html": [
       "<div>\n",
       "<style scoped>\n",
       "    .dataframe tbody tr th:only-of-type {\n",
       "        vertical-align: middle;\n",
       "    }\n",
       "\n",
       "    .dataframe tbody tr th {\n",
       "        vertical-align: top;\n",
       "    }\n",
       "\n",
       "    .dataframe thead th {\n",
       "        text-align: right;\n",
       "    }\n",
       "</style>\n",
       "<table border=\"1\" class=\"dataframe\">\n",
       "  <thead>\n",
       "    <tr style=\"text-align: right;\">\n",
       "      <th></th>\n",
       "      <th>Predicted</th>\n",
       "      <th>Actual</th>\n",
       "      <th>Score_diff</th>\n",
       "    </tr>\n",
       "  </thead>\n",
       "  <tbody>\n",
       "    <tr>\n",
       "      <th>0</th>\n",
       "      <td>Iris-setosa</td>\n",
       "      <td>Iris-setosa</td>\n",
       "      <td>Correct</td>\n",
       "    </tr>\n",
       "    <tr>\n",
       "      <th>1</th>\n",
       "      <td>Iris-versicolor</td>\n",
       "      <td>Iris-versicolor</td>\n",
       "      <td>Correct</td>\n",
       "    </tr>\n",
       "    <tr>\n",
       "      <th>2</th>\n",
       "      <td>Iris-versicolor</td>\n",
       "      <td>Iris-setosa</td>\n",
       "      <td>Wrong</td>\n",
       "    </tr>\n",
       "    <tr>\n",
       "      <th>3</th>\n",
       "      <td>Iris-versicolor</td>\n",
       "      <td>Iris-versicolor</td>\n",
       "      <td>Correct</td>\n",
       "    </tr>\n",
       "    <tr>\n",
       "      <th>4</th>\n",
       "      <td>Iris-versicolor</td>\n",
       "      <td>Iris-versicolor</td>\n",
       "      <td>Correct</td>\n",
       "    </tr>\n",
       "    <tr>\n",
       "      <th>5</th>\n",
       "      <td>Iris-versicolor</td>\n",
       "      <td>Iris-versicolor</td>\n",
       "      <td>Correct</td>\n",
       "    </tr>\n",
       "    <tr>\n",
       "      <th>6</th>\n",
       "      <td>Iris-setosa</td>\n",
       "      <td>Iris-setosa</td>\n",
       "      <td>Correct</td>\n",
       "    </tr>\n",
       "    <tr>\n",
       "      <th>7</th>\n",
       "      <td>Iris-versicolor</td>\n",
       "      <td>Iris-versicolor</td>\n",
       "      <td>Correct</td>\n",
       "    </tr>\n",
       "    <tr>\n",
       "      <th>8</th>\n",
       "      <td>Iris-versicolor</td>\n",
       "      <td>Iris-versicolor</td>\n",
       "      <td>Correct</td>\n",
       "    </tr>\n",
       "    <tr>\n",
       "      <th>9</th>\n",
       "      <td>Iris-versicolor</td>\n",
       "      <td>Iris-setosa</td>\n",
       "      <td>Wrong</td>\n",
       "    </tr>\n",
       "  </tbody>\n",
       "</table>\n",
       "</div>"
      ],
      "text/plain": [
       "         Predicted           Actual Score_diff\n",
       "0      Iris-setosa      Iris-setosa    Correct\n",
       "1  Iris-versicolor  Iris-versicolor    Correct\n",
       "2  Iris-versicolor      Iris-setosa      Wrong\n",
       "3  Iris-versicolor  Iris-versicolor    Correct\n",
       "4  Iris-versicolor  Iris-versicolor    Correct\n",
       "5  Iris-versicolor  Iris-versicolor    Correct\n",
       "6      Iris-setosa      Iris-setosa    Correct\n",
       "7  Iris-versicolor  Iris-versicolor    Correct\n",
       "8  Iris-versicolor  Iris-versicolor    Correct\n",
       "9  Iris-versicolor      Iris-setosa      Wrong"
      ]
     },
     "execution_count": 308,
     "metadata": {},
     "output_type": "execute_result"
    }
   ],
   "source": [
    "dataset[\"Predicted\"] = np.where(dataset[\"Predicted\"] == -1, \"Iris-setosa\" ,\"Iris-versicolor\")\n",
    "dataset[\"Actual\"]  = np.where(dataset[\"Actual\"] == -1 , \"Iris-setosa\", \"Iris-versicolor\")\n",
    "dataset[\"Score_diff\"] = np.where(dataset[\"Score_diff\"] == 0 , \"Correct\" , \"Wrong\")\n",
    "dataset.head(n=10)"
   ]
  },
  {
   "cell_type": "code",
   "execution_count": 309,
   "metadata": {},
   "outputs": [],
   "source": [
    "dataset.to_csv(r'DataComparision.csv')"
   ]
  },
  {
   "cell_type": "markdown",
   "metadata": {},
   "source": [
    "# Bibliography \n",
    "\n",
    "- TowardsDataScience - Arunava - the Perceptron: \n",
    "https://towardsdatascience.com/the-perceptron-3af34c84838c\n",
    "\n",
    "- Dr. Harven A Cohen - The Perceptron: http://harveycohen.net/image/perceptron.html\n",
    "\n",
    "- Simplilearn - What is Perceptron: A Beginners Tutorial for Perceptron: https://www.simplilearn.com/what-is-perceptron-tutorial#:~:text=A%20Perceptron%20is%20an%20algorithm,learn%20only%20linearly%20separable%20patterns.\n",
    "\n",
    "- GitHub - Lithathampan - Perceptron: https://github.com/lithathampan/perceptron\n",
    "\n",
    "- GitHub - Honghe - Perceptron: https://github.com/Honghe/perceptron\n",
    "\n",
    "- GitHub - AnnFernandes - IrisDataset Perceptron: https://github.com/AnnFernandes/IrisDataset_Perceptron\n",
    "\n",
    "- GitHub - TungeTyt - Perceptron Iris: https://github.com/Tungetyt/perceptronIris\n",
    "\n",
    "- GitHub - JakeCowton - SingleLayer Perceptron: https://github.com/JakeCowton/SingleLayerPerceptron\n",
    "\n",
    "- Mllog - Implementing a perceptron learning algorithm in Python: https://mllog.github.io/2016/11/04/Python-ML-Chapter-2/\n",
    "\n",
    "- Medium - Elif Işıkhan - Perceptron Nedir?: https://medium.com/@isikhanelif/perceptron-nedir-83dd39aadfa0\n",
    "\n",
    "- Python Machine Learning - Perceptrons: The First Neural Networks: https://pythonmachinelearning.pro/perceptrons-the-first-neural-networks/\n",
    "\n",
    "- Akshay L Chandra - Perceptron Learning Algorithm: A Graphical Explanation Of Why It Works: https://towardsdatascience.com/perceptron-learning-algorithm-d5db0deab975\n",
    "\n",
    "- Simone Alberto Peirone - Iris classification with Perceptron from scratch: https://simonepeirone.it/posts/ml-01-perceptron/\n",
    "\n"
   ]
  },
  {
   "cell_type": "code",
   "execution_count": null,
   "metadata": {},
   "outputs": [],
   "source": []
  }
 ],
 "metadata": {
  "kernelspec": {
   "display_name": "Python 3",
   "language": "python",
   "name": "python3"
  },
  "language_info": {
   "codemirror_mode": {
    "name": "ipython",
    "version": 3
   },
   "file_extension": ".py",
   "mimetype": "text/x-python",
   "name": "python",
   "nbconvert_exporter": "python",
   "pygments_lexer": "ipython3",
   "version": "3.8.3"
  }
 },
 "nbformat": 4,
 "nbformat_minor": 4
}
